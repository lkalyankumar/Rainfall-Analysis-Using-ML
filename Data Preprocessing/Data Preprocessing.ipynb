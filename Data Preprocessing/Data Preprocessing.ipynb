{
 "cells": [
  {
   "cell_type": "markdown",
   "metadata": {},
   "source": [
    "# DATA PREPROCESSING "
   ]
  },
  {
   "cell_type": "code",
   "execution_count": 2,
   "metadata": {},
   "outputs": [],
   "source": [
    "import numpy as np\n",
    "import pandas as pd\n",
    "import sqlite3"
   ]
  },
  {
   "cell_type": "markdown",
   "metadata": {},
   "source": [
    "### READING DATABASE TABLES"
   ]
  },
  {
   "cell_type": "code",
   "execution_count": 3,
   "metadata": {},
   "outputs": [],
   "source": [
    "conn=sqlite3.connect(r'E:\\DataBase\\Results.db')"
   ]
  },
  {
   "cell_type": "code",
   "execution_count": 4,
   "metadata": {},
   "outputs": [],
   "source": [
    "dataDB=pd.read_sql_query('select * from Student_1_Marks',conn)"
   ]
  },
  {
   "cell_type": "code",
   "execution_count": 5,
   "metadata": {},
   "outputs": [
    {
     "data": {
      "text/html": [
       "<div>\n",
       "<style scoped>\n",
       "    .dataframe tbody tr th:only-of-type {\n",
       "        vertical-align: middle;\n",
       "    }\n",
       "\n",
       "    .dataframe tbody tr th {\n",
       "        vertical-align: top;\n",
       "    }\n",
       "\n",
       "    .dataframe thead th {\n",
       "        text-align: right;\n",
       "    }\n",
       "</style>\n",
       "<table border=\"1\" class=\"dataframe\">\n",
       "  <thead>\n",
       "    <tr style=\"text-align: right;\">\n",
       "      <th></th>\n",
       "      <th>SL_NO</th>\n",
       "      <th>Subject</th>\n",
       "      <th>Marks</th>\n",
       "      <th>Grade</th>\n",
       "    </tr>\n",
       "  </thead>\n",
       "  <tbody>\n",
       "    <tr>\n",
       "      <th>0</th>\n",
       "      <td>1</td>\n",
       "      <td>Maths</td>\n",
       "      <td>98</td>\n",
       "      <td>O</td>\n",
       "    </tr>\n",
       "    <tr>\n",
       "      <th>1</th>\n",
       "      <td>2</td>\n",
       "      <td>English</td>\n",
       "      <td>80</td>\n",
       "      <td>E</td>\n",
       "    </tr>\n",
       "    <tr>\n",
       "      <th>2</th>\n",
       "      <td>3</td>\n",
       "      <td>Hindi</td>\n",
       "      <td>88</td>\n",
       "      <td>E</td>\n",
       "    </tr>\n",
       "    <tr>\n",
       "      <th>3</th>\n",
       "      <td>4</td>\n",
       "      <td>Computer</td>\n",
       "      <td>96</td>\n",
       "      <td>O</td>\n",
       "    </tr>\n",
       "    <tr>\n",
       "      <th>4</th>\n",
       "      <td>5</td>\n",
       "      <td>Hist &amp; Geo</td>\n",
       "      <td>83</td>\n",
       "      <td>E</td>\n",
       "    </tr>\n",
       "    <tr>\n",
       "      <th>5</th>\n",
       "      <td>6</td>\n",
       "      <td>Science</td>\n",
       "      <td>85</td>\n",
       "      <td>E</td>\n",
       "    </tr>\n",
       "  </tbody>\n",
       "</table>\n",
       "</div>"
      ],
      "text/plain": [
       "   SL_NO     Subject  Marks Grade\n",
       "0      1       Maths     98     O\n",
       "1      2     English     80     E\n",
       "2      3       Hindi     88     E\n",
       "3      4    Computer     96     O\n",
       "4      5  Hist & Geo     83     E\n",
       "5      6     Science     85     E"
      ]
     },
     "execution_count": 5,
     "metadata": {},
     "output_type": "execute_result"
    }
   ],
   "source": [
    "dataDB"
   ]
  },
  {
   "cell_type": "code",
   "execution_count": 27,
   "metadata": {},
   "outputs": [
    {
     "data": {
      "text/html": [
       "<div>\n",
       "<style scoped>\n",
       "    .dataframe tbody tr th:only-of-type {\n",
       "        vertical-align: middle;\n",
       "    }\n",
       "\n",
       "    .dataframe tbody tr th {\n",
       "        vertical-align: top;\n",
       "    }\n",
       "\n",
       "    .dataframe thead th {\n",
       "        text-align: right;\n",
       "    }\n",
       "</style>\n",
       "<table border=\"1\" class=\"dataframe\">\n",
       "  <thead>\n",
       "    <tr style=\"text-align: right;\">\n",
       "      <th></th>\n",
       "      <th>SL_NO</th>\n",
       "      <th>Subject</th>\n",
       "      <th>Marks</th>\n",
       "      <th>Grade</th>\n",
       "    </tr>\n",
       "  </thead>\n",
       "  <tbody>\n",
       "    <tr>\n",
       "      <th>0</th>\n",
       "      <td>1</td>\n",
       "      <td>Maths</td>\n",
       "      <td>99</td>\n",
       "      <td>O</td>\n",
       "    </tr>\n",
       "    <tr>\n",
       "      <th>1</th>\n",
       "      <td>2</td>\n",
       "      <td>English</td>\n",
       "      <td>92</td>\n",
       "      <td>O</td>\n",
       "    </tr>\n",
       "    <tr>\n",
       "      <th>2</th>\n",
       "      <td>3</td>\n",
       "      <td>Hindi</td>\n",
       "      <td>76</td>\n",
       "      <td>A</td>\n",
       "    </tr>\n",
       "    <tr>\n",
       "      <th>3</th>\n",
       "      <td>4</td>\n",
       "      <td>Computer</td>\n",
       "      <td>90</td>\n",
       "      <td>O</td>\n",
       "    </tr>\n",
       "    <tr>\n",
       "      <th>4</th>\n",
       "      <td>5</td>\n",
       "      <td>Hist &amp; Geo</td>\n",
       "      <td>78</td>\n",
       "      <td>A</td>\n",
       "    </tr>\n",
       "    <tr>\n",
       "      <th>5</th>\n",
       "      <td>6</td>\n",
       "      <td>Science</td>\n",
       "      <td>80</td>\n",
       "      <td>E</td>\n",
       "    </tr>\n",
       "  </tbody>\n",
       "</table>\n",
       "</div>"
      ],
      "text/plain": [
       "   SL_NO     Subject  Marks Grade\n",
       "0      1       Maths     99     O\n",
       "1      2     English     92     O\n",
       "2      3       Hindi     76     A\n",
       "3      4    Computer     90     O\n",
       "4      5  Hist & Geo     78     A\n",
       "5      6     Science     80     E"
      ]
     },
     "execution_count": 27,
     "metadata": {},
     "output_type": "execute_result"
    }
   ],
   "source": [
    "dataDB2=pd.read_sql_query('select * from Student_2_Marks',conn)\n",
    "dataDB2"
   ]
  },
  {
   "cell_type": "code",
   "execution_count": 21,
   "metadata": {},
   "outputs": [
    {
     "data": {
      "text/html": [
       "<div>\n",
       "<style scoped>\n",
       "    .dataframe tbody tr th:only-of-type {\n",
       "        vertical-align: middle;\n",
       "    }\n",
       "\n",
       "    .dataframe tbody tr th {\n",
       "        vertical-align: top;\n",
       "    }\n",
       "\n",
       "    .dataframe thead th {\n",
       "        text-align: right;\n",
       "    }\n",
       "</style>\n",
       "<table border=\"1\" class=\"dataframe\">\n",
       "  <thead>\n",
       "    <tr style=\"text-align: right;\">\n",
       "      <th></th>\n",
       "      <th>SL_NO</th>\n",
       "      <th>Subject</th>\n",
       "      <th>Marks</th>\n",
       "      <th>Grade</th>\n",
       "    </tr>\n",
       "  </thead>\n",
       "  <tbody>\n",
       "    <tr>\n",
       "      <th>0</th>\n",
       "      <td>1</td>\n",
       "      <td>Maths</td>\n",
       "      <td>98</td>\n",
       "      <td>O</td>\n",
       "    </tr>\n",
       "    <tr>\n",
       "      <th>1</th>\n",
       "      <td>4</td>\n",
       "      <td>Computer</td>\n",
       "      <td>96</td>\n",
       "      <td>O</td>\n",
       "    </tr>\n",
       "  </tbody>\n",
       "</table>\n",
       "</div>"
      ],
      "text/plain": [
       "   SL_NO   Subject  Marks Grade\n",
       "0      1     Maths     98     O\n",
       "1      4  Computer     96     O"
      ]
     },
     "execution_count": 21,
     "metadata": {},
     "output_type": "execute_result"
    }
   ],
   "source": [
    "data1=pd.read_sql_query('select * from Student_1_Marks where Marks>90',conn)\n",
    "data1"
   ]
  },
  {
   "cell_type": "code",
   "execution_count": 10,
   "metadata": {},
   "outputs": [
    {
     "data": {
      "text/plain": [
       "88.33333333333333"
      ]
     },
     "execution_count": 10,
     "metadata": {},
     "output_type": "execute_result"
    }
   ],
   "source": [
    "dataDB['Marks'].mean()"
   ]
  },
  {
   "cell_type": "code",
   "execution_count": 11,
   "metadata": {},
   "outputs": [
    {
     "data": {
      "text/html": [
       "<div>\n",
       "<style scoped>\n",
       "    .dataframe tbody tr th:only-of-type {\n",
       "        vertical-align: middle;\n",
       "    }\n",
       "\n",
       "    .dataframe tbody tr th {\n",
       "        vertical-align: top;\n",
       "    }\n",
       "\n",
       "    .dataframe thead th {\n",
       "        text-align: right;\n",
       "    }\n",
       "</style>\n",
       "<table border=\"1\" class=\"dataframe\">\n",
       "  <thead>\n",
       "    <tr style=\"text-align: right;\">\n",
       "      <th></th>\n",
       "      <th>SL_NO</th>\n",
       "      <th>Marks</th>\n",
       "    </tr>\n",
       "  </thead>\n",
       "  <tbody>\n",
       "    <tr>\n",
       "      <th>count</th>\n",
       "      <td>6.000000</td>\n",
       "      <td>6.000000</td>\n",
       "    </tr>\n",
       "    <tr>\n",
       "      <th>mean</th>\n",
       "      <td>3.500000</td>\n",
       "      <td>88.333333</td>\n",
       "    </tr>\n",
       "    <tr>\n",
       "      <th>std</th>\n",
       "      <td>1.870829</td>\n",
       "      <td>7.229569</td>\n",
       "    </tr>\n",
       "    <tr>\n",
       "      <th>min</th>\n",
       "      <td>1.000000</td>\n",
       "      <td>80.000000</td>\n",
       "    </tr>\n",
       "    <tr>\n",
       "      <th>25%</th>\n",
       "      <td>2.250000</td>\n",
       "      <td>83.500000</td>\n",
       "    </tr>\n",
       "    <tr>\n",
       "      <th>50%</th>\n",
       "      <td>3.500000</td>\n",
       "      <td>86.500000</td>\n",
       "    </tr>\n",
       "    <tr>\n",
       "      <th>75%</th>\n",
       "      <td>4.750000</td>\n",
       "      <td>94.000000</td>\n",
       "    </tr>\n",
       "    <tr>\n",
       "      <th>max</th>\n",
       "      <td>6.000000</td>\n",
       "      <td>98.000000</td>\n",
       "    </tr>\n",
       "  </tbody>\n",
       "</table>\n",
       "</div>"
      ],
      "text/plain": [
       "          SL_NO      Marks\n",
       "count  6.000000   6.000000\n",
       "mean   3.500000  88.333333\n",
       "std    1.870829   7.229569\n",
       "min    1.000000  80.000000\n",
       "25%    2.250000  83.500000\n",
       "50%    3.500000  86.500000\n",
       "75%    4.750000  94.000000\n",
       "max    6.000000  98.000000"
      ]
     },
     "execution_count": 11,
     "metadata": {},
     "output_type": "execute_result"
    }
   ],
   "source": [
    "dataDB.describe()"
   ]
  },
  {
   "cell_type": "code",
   "execution_count": 12,
   "metadata": {},
   "outputs": [],
   "source": [
    "dataDB['marks1']=dataDB['Marks']-10"
   ]
  },
  {
   "cell_type": "code",
   "execution_count": 13,
   "metadata": {},
   "outputs": [
    {
     "data": {
      "text/html": [
       "<div>\n",
       "<style scoped>\n",
       "    .dataframe tbody tr th:only-of-type {\n",
       "        vertical-align: middle;\n",
       "    }\n",
       "\n",
       "    .dataframe tbody tr th {\n",
       "        vertical-align: top;\n",
       "    }\n",
       "\n",
       "    .dataframe thead th {\n",
       "        text-align: right;\n",
       "    }\n",
       "</style>\n",
       "<table border=\"1\" class=\"dataframe\">\n",
       "  <thead>\n",
       "    <tr style=\"text-align: right;\">\n",
       "      <th></th>\n",
       "      <th>SL_NO</th>\n",
       "      <th>Subject</th>\n",
       "      <th>Marks</th>\n",
       "      <th>Grade</th>\n",
       "      <th>marks1</th>\n",
       "    </tr>\n",
       "  </thead>\n",
       "  <tbody>\n",
       "    <tr>\n",
       "      <th>0</th>\n",
       "      <td>1</td>\n",
       "      <td>Maths</td>\n",
       "      <td>98</td>\n",
       "      <td>O</td>\n",
       "      <td>88</td>\n",
       "    </tr>\n",
       "    <tr>\n",
       "      <th>1</th>\n",
       "      <td>2</td>\n",
       "      <td>English</td>\n",
       "      <td>80</td>\n",
       "      <td>E</td>\n",
       "      <td>70</td>\n",
       "    </tr>\n",
       "    <tr>\n",
       "      <th>2</th>\n",
       "      <td>3</td>\n",
       "      <td>Hindi</td>\n",
       "      <td>88</td>\n",
       "      <td>E</td>\n",
       "      <td>78</td>\n",
       "    </tr>\n",
       "    <tr>\n",
       "      <th>3</th>\n",
       "      <td>4</td>\n",
       "      <td>Computer</td>\n",
       "      <td>96</td>\n",
       "      <td>O</td>\n",
       "      <td>86</td>\n",
       "    </tr>\n",
       "    <tr>\n",
       "      <th>4</th>\n",
       "      <td>5</td>\n",
       "      <td>Hist &amp; Geo</td>\n",
       "      <td>83</td>\n",
       "      <td>E</td>\n",
       "      <td>73</td>\n",
       "    </tr>\n",
       "    <tr>\n",
       "      <th>5</th>\n",
       "      <td>6</td>\n",
       "      <td>Science</td>\n",
       "      <td>85</td>\n",
       "      <td>E</td>\n",
       "      <td>75</td>\n",
       "    </tr>\n",
       "  </tbody>\n",
       "</table>\n",
       "</div>"
      ],
      "text/plain": [
       "   SL_NO     Subject  Marks Grade  marks1\n",
       "0      1       Maths     98     O      88\n",
       "1      2     English     80     E      70\n",
       "2      3       Hindi     88     E      78\n",
       "3      4    Computer     96     O      86\n",
       "4      5  Hist & Geo     83     E      73\n",
       "5      6     Science     85     E      75"
      ]
     },
     "execution_count": 13,
     "metadata": {},
     "output_type": "execute_result"
    }
   ],
   "source": [
    "dataDB"
   ]
  },
  {
   "cell_type": "code",
   "execution_count": 19,
   "metadata": {},
   "outputs": [
    {
     "data": {
      "text/html": [
       "<div>\n",
       "<style scoped>\n",
       "    .dataframe tbody tr th:only-of-type {\n",
       "        vertical-align: middle;\n",
       "    }\n",
       "\n",
       "    .dataframe tbody tr th {\n",
       "        vertical-align: top;\n",
       "    }\n",
       "\n",
       "    .dataframe thead th {\n",
       "        text-align: right;\n",
       "    }\n",
       "</style>\n",
       "<table border=\"1\" class=\"dataframe\">\n",
       "  <thead>\n",
       "    <tr style=\"text-align: right;\">\n",
       "      <th></th>\n",
       "      <th>SL_NO</th>\n",
       "      <th>Marks</th>\n",
       "      <th>marks1</th>\n",
       "    </tr>\n",
       "    <tr>\n",
       "      <th>Grade</th>\n",
       "      <th></th>\n",
       "      <th></th>\n",
       "      <th></th>\n",
       "    </tr>\n",
       "  </thead>\n",
       "  <tbody>\n",
       "    <tr>\n",
       "      <th>E</th>\n",
       "      <td>4.0</td>\n",
       "      <td>84.0</td>\n",
       "      <td>74.0</td>\n",
       "    </tr>\n",
       "    <tr>\n",
       "      <th>O</th>\n",
       "      <td>2.5</td>\n",
       "      <td>97.0</td>\n",
       "      <td>87.0</td>\n",
       "    </tr>\n",
       "  </tbody>\n",
       "</table>\n",
       "</div>"
      ],
      "text/plain": [
       "       SL_NO  Marks  marks1\n",
       "Grade                      \n",
       "E        4.0   84.0    74.0\n",
       "O        2.5   97.0    87.0"
      ]
     },
     "execution_count": 19,
     "metadata": {},
     "output_type": "execute_result"
    }
   ],
   "source": [
    "d1=dataDB.groupby('Grade')\n",
    "d1.mean()"
   ]
  },
  {
   "cell_type": "code",
   "execution_count": 30,
   "metadata": {},
   "outputs": [
    {
     "data": {
      "text/html": [
       "<style  type=\"text/css\" >\n",
       "    #T_4466c568_beaa_11ea_b1d8_9828a6206221row0_col2 {\n",
       "            background-color: red;\n",
       "        }    #T_4466c568_beaa_11ea_b1d8_9828a6206221row0_col3 {\n",
       "            background-color: red;\n",
       "        }    #T_4466c568_beaa_11ea_b1d8_9828a6206221row0_col4 {\n",
       "            background-color: red;\n",
       "        }    #T_4466c568_beaa_11ea_b1d8_9828a6206221row3_col3 {\n",
       "            background-color: red;\n",
       "        }    #T_4466c568_beaa_11ea_b1d8_9828a6206221row5_col0 {\n",
       "            background-color: red;\n",
       "        }    #T_4466c568_beaa_11ea_b1d8_9828a6206221row5_col1 {\n",
       "            background-color: red;\n",
       "        }</style><table id=\"T_4466c568_beaa_11ea_b1d8_9828a6206221\" ><thead>    <tr>        <th class=\"blank level0\" ></th>        <th class=\"col_heading level0 col0\" >SL_NO</th>        <th class=\"col_heading level0 col1\" >Subject</th>        <th class=\"col_heading level0 col2\" >Marks</th>        <th class=\"col_heading level0 col3\" >Grade</th>        <th class=\"col_heading level0 col4\" >marks1</th>    </tr></thead><tbody>\n",
       "                <tr>\n",
       "                        <th id=\"T_4466c568_beaa_11ea_b1d8_9828a6206221level0_row0\" class=\"row_heading level0 row0\" >0</th>\n",
       "                        <td id=\"T_4466c568_beaa_11ea_b1d8_9828a6206221row0_col0\" class=\"data row0 col0\" >1</td>\n",
       "                        <td id=\"T_4466c568_beaa_11ea_b1d8_9828a6206221row0_col1\" class=\"data row0 col1\" >Maths</td>\n",
       "                        <td id=\"T_4466c568_beaa_11ea_b1d8_9828a6206221row0_col2\" class=\"data row0 col2\" >98</td>\n",
       "                        <td id=\"T_4466c568_beaa_11ea_b1d8_9828a6206221row0_col3\" class=\"data row0 col3\" >O</td>\n",
       "                        <td id=\"T_4466c568_beaa_11ea_b1d8_9828a6206221row0_col4\" class=\"data row0 col4\" >88</td>\n",
       "            </tr>\n",
       "            <tr>\n",
       "                        <th id=\"T_4466c568_beaa_11ea_b1d8_9828a6206221level0_row1\" class=\"row_heading level0 row1\" >1</th>\n",
       "                        <td id=\"T_4466c568_beaa_11ea_b1d8_9828a6206221row1_col0\" class=\"data row1 col0\" >2</td>\n",
       "                        <td id=\"T_4466c568_beaa_11ea_b1d8_9828a6206221row1_col1\" class=\"data row1 col1\" >English</td>\n",
       "                        <td id=\"T_4466c568_beaa_11ea_b1d8_9828a6206221row1_col2\" class=\"data row1 col2\" >80</td>\n",
       "                        <td id=\"T_4466c568_beaa_11ea_b1d8_9828a6206221row1_col3\" class=\"data row1 col3\" >E</td>\n",
       "                        <td id=\"T_4466c568_beaa_11ea_b1d8_9828a6206221row1_col4\" class=\"data row1 col4\" >70</td>\n",
       "            </tr>\n",
       "            <tr>\n",
       "                        <th id=\"T_4466c568_beaa_11ea_b1d8_9828a6206221level0_row2\" class=\"row_heading level0 row2\" >2</th>\n",
       "                        <td id=\"T_4466c568_beaa_11ea_b1d8_9828a6206221row2_col0\" class=\"data row2 col0\" >3</td>\n",
       "                        <td id=\"T_4466c568_beaa_11ea_b1d8_9828a6206221row2_col1\" class=\"data row2 col1\" >Hindi</td>\n",
       "                        <td id=\"T_4466c568_beaa_11ea_b1d8_9828a6206221row2_col2\" class=\"data row2 col2\" >88</td>\n",
       "                        <td id=\"T_4466c568_beaa_11ea_b1d8_9828a6206221row2_col3\" class=\"data row2 col3\" >E</td>\n",
       "                        <td id=\"T_4466c568_beaa_11ea_b1d8_9828a6206221row2_col4\" class=\"data row2 col4\" >78</td>\n",
       "            </tr>\n",
       "            <tr>\n",
       "                        <th id=\"T_4466c568_beaa_11ea_b1d8_9828a6206221level0_row3\" class=\"row_heading level0 row3\" >3</th>\n",
       "                        <td id=\"T_4466c568_beaa_11ea_b1d8_9828a6206221row3_col0\" class=\"data row3 col0\" >4</td>\n",
       "                        <td id=\"T_4466c568_beaa_11ea_b1d8_9828a6206221row3_col1\" class=\"data row3 col1\" >Computer</td>\n",
       "                        <td id=\"T_4466c568_beaa_11ea_b1d8_9828a6206221row3_col2\" class=\"data row3 col2\" >96</td>\n",
       "                        <td id=\"T_4466c568_beaa_11ea_b1d8_9828a6206221row3_col3\" class=\"data row3 col3\" >O</td>\n",
       "                        <td id=\"T_4466c568_beaa_11ea_b1d8_9828a6206221row3_col4\" class=\"data row3 col4\" >86</td>\n",
       "            </tr>\n",
       "            <tr>\n",
       "                        <th id=\"T_4466c568_beaa_11ea_b1d8_9828a6206221level0_row4\" class=\"row_heading level0 row4\" >4</th>\n",
       "                        <td id=\"T_4466c568_beaa_11ea_b1d8_9828a6206221row4_col0\" class=\"data row4 col0\" >5</td>\n",
       "                        <td id=\"T_4466c568_beaa_11ea_b1d8_9828a6206221row4_col1\" class=\"data row4 col1\" >Hist & Geo</td>\n",
       "                        <td id=\"T_4466c568_beaa_11ea_b1d8_9828a6206221row4_col2\" class=\"data row4 col2\" >83</td>\n",
       "                        <td id=\"T_4466c568_beaa_11ea_b1d8_9828a6206221row4_col3\" class=\"data row4 col3\" >E</td>\n",
       "                        <td id=\"T_4466c568_beaa_11ea_b1d8_9828a6206221row4_col4\" class=\"data row4 col4\" >73</td>\n",
       "            </tr>\n",
       "            <tr>\n",
       "                        <th id=\"T_4466c568_beaa_11ea_b1d8_9828a6206221level0_row5\" class=\"row_heading level0 row5\" >5</th>\n",
       "                        <td id=\"T_4466c568_beaa_11ea_b1d8_9828a6206221row5_col0\" class=\"data row5 col0\" >6</td>\n",
       "                        <td id=\"T_4466c568_beaa_11ea_b1d8_9828a6206221row5_col1\" class=\"data row5 col1\" >Science</td>\n",
       "                        <td id=\"T_4466c568_beaa_11ea_b1d8_9828a6206221row5_col2\" class=\"data row5 col2\" >85</td>\n",
       "                        <td id=\"T_4466c568_beaa_11ea_b1d8_9828a6206221row5_col3\" class=\"data row5 col3\" >E</td>\n",
       "                        <td id=\"T_4466c568_beaa_11ea_b1d8_9828a6206221row5_col4\" class=\"data row5 col4\" >75</td>\n",
       "            </tr>\n",
       "    </tbody></table>"
      ],
      "text/plain": [
       "<pandas.io.formats.style.Styler at 0x2cc7e770f88>"
      ]
     },
     "execution_count": 30,
     "metadata": {},
     "output_type": "execute_result"
    }
   ],
   "source": [
    "def maxValue(s):\n",
    "    \n",
    "    is_max = s == s.max()\n",
    "    \n",
    "    return ['background-color:red' if v else '' for v in is_max]\n",
    "dataDB.style.apply(maxValue)   "
   ]
  },
  {
   "cell_type": "markdown",
   "metadata": {},
   "source": [
    "### READING CSV"
   ]
  },
  {
   "cell_type": "code",
   "execution_count": 6,
   "metadata": {},
   "outputs": [],
   "source": [
    "dataCSV=pd.read_csv('EmployeeCSVDATA.csv')"
   ]
  },
  {
   "cell_type": "code",
   "execution_count": 7,
   "metadata": {},
   "outputs": [
    {
     "data": {
      "text/html": [
       "<div>\n",
       "<style scoped>\n",
       "    .dataframe tbody tr th:only-of-type {\n",
       "        vertical-align: middle;\n",
       "    }\n",
       "\n",
       "    .dataframe tbody tr th {\n",
       "        vertical-align: top;\n",
       "    }\n",
       "\n",
       "    .dataframe thead th {\n",
       "        text-align: right;\n",
       "    }\n",
       "</style>\n",
       "<table border=\"1\" class=\"dataframe\">\n",
       "  <thead>\n",
       "    <tr style=\"text-align: right;\">\n",
       "      <th></th>\n",
       "      <th>Department</th>\n",
       "      <th>Total No of Employees</th>\n",
       "      <th>Percentage of Females</th>\n",
       "      <th>Percentage of Males</th>\n",
       "    </tr>\n",
       "  </thead>\n",
       "  <tbody>\n",
       "    <tr>\n",
       "      <th>0</th>\n",
       "      <td>IT</td>\n",
       "      <td>840</td>\n",
       "      <td>45</td>\n",
       "      <td>55</td>\n",
       "    </tr>\n",
       "    <tr>\n",
       "      <th>1</th>\n",
       "      <td>Accounts</td>\n",
       "      <td>220</td>\n",
       "      <td>35</td>\n",
       "      <td>65</td>\n",
       "    </tr>\n",
       "    <tr>\n",
       "      <th>2</th>\n",
       "      <td>Production</td>\n",
       "      <td>900</td>\n",
       "      <td>23</td>\n",
       "      <td>77</td>\n",
       "    </tr>\n",
       "    <tr>\n",
       "      <th>3</th>\n",
       "      <td>HR</td>\n",
       "      <td>360</td>\n",
       "      <td>65</td>\n",
       "      <td>35</td>\n",
       "    </tr>\n",
       "    <tr>\n",
       "      <th>4</th>\n",
       "      <td>Marketing</td>\n",
       "      <td>450</td>\n",
       "      <td>44</td>\n",
       "      <td>56</td>\n",
       "    </tr>\n",
       "    <tr>\n",
       "      <th>5</th>\n",
       "      <td>Customer Service</td>\n",
       "      <td>540</td>\n",
       "      <td>40</td>\n",
       "      <td>60</td>\n",
       "    </tr>\n",
       "  </tbody>\n",
       "</table>\n",
       "</div>"
      ],
      "text/plain": [
       "         Department  Total No of Employees  Percentage of Females  \\\n",
       "0                IT                    840                     45   \n",
       "1          Accounts                    220                     35   \n",
       "2        Production                    900                     23   \n",
       "3                HR                    360                     65   \n",
       "4         Marketing                    450                     44   \n",
       "5  Customer Service                    540                     40   \n",
       "\n",
       "   Percentage of Males  \n",
       "0                   55  \n",
       "1                   65  \n",
       "2                   77  \n",
       "3                   35  \n",
       "4                   56  \n",
       "5                   60  "
      ]
     },
     "execution_count": 7,
     "metadata": {},
     "output_type": "execute_result"
    }
   ],
   "source": [
    "dataCSV"
   ]
  },
  {
   "cell_type": "code",
   "execution_count": 23,
   "metadata": {},
   "outputs": [
    {
     "data": {
      "text/plain": [
       "42.0"
      ]
     },
     "execution_count": 23,
     "metadata": {},
     "output_type": "execute_result"
    }
   ],
   "source": [
    "dataCSV['Percentage of Females'].mean()"
   ]
  },
  {
   "cell_type": "code",
   "execution_count": 24,
   "metadata": {},
   "outputs": [
    {
     "data": {
      "text/plain": [
       "58.0"
      ]
     },
     "execution_count": 24,
     "metadata": {},
     "output_type": "execute_result"
    }
   ],
   "source": [
    "dataCSV['Percentage of Males'].mean()"
   ]
  },
  {
   "cell_type": "code",
   "execution_count": 25,
   "metadata": {},
   "outputs": [],
   "source": [
    "dataCSV['Total percentage of employee']=dataCSV['Percentage of Females']+dataCSV['Percentage of Males']"
   ]
  },
  {
   "cell_type": "code",
   "execution_count": 26,
   "metadata": {},
   "outputs": [
    {
     "data": {
      "text/html": [
       "<div>\n",
       "<style scoped>\n",
       "    .dataframe tbody tr th:only-of-type {\n",
       "        vertical-align: middle;\n",
       "    }\n",
       "\n",
       "    .dataframe tbody tr th {\n",
       "        vertical-align: top;\n",
       "    }\n",
       "\n",
       "    .dataframe thead th {\n",
       "        text-align: right;\n",
       "    }\n",
       "</style>\n",
       "<table border=\"1\" class=\"dataframe\">\n",
       "  <thead>\n",
       "    <tr style=\"text-align: right;\">\n",
       "      <th></th>\n",
       "      <th>Department</th>\n",
       "      <th>Total No of Employees</th>\n",
       "      <th>Percentage of Females</th>\n",
       "      <th>Percentage of Males</th>\n",
       "      <th>Total percentage of employee</th>\n",
       "    </tr>\n",
       "  </thead>\n",
       "  <tbody>\n",
       "    <tr>\n",
       "      <th>0</th>\n",
       "      <td>IT</td>\n",
       "      <td>840</td>\n",
       "      <td>45</td>\n",
       "      <td>55</td>\n",
       "      <td>100</td>\n",
       "    </tr>\n",
       "    <tr>\n",
       "      <th>1</th>\n",
       "      <td>Accounts</td>\n",
       "      <td>220</td>\n",
       "      <td>35</td>\n",
       "      <td>65</td>\n",
       "      <td>100</td>\n",
       "    </tr>\n",
       "    <tr>\n",
       "      <th>2</th>\n",
       "      <td>Production</td>\n",
       "      <td>900</td>\n",
       "      <td>23</td>\n",
       "      <td>77</td>\n",
       "      <td>100</td>\n",
       "    </tr>\n",
       "    <tr>\n",
       "      <th>3</th>\n",
       "      <td>HR</td>\n",
       "      <td>360</td>\n",
       "      <td>65</td>\n",
       "      <td>35</td>\n",
       "      <td>100</td>\n",
       "    </tr>\n",
       "    <tr>\n",
       "      <th>4</th>\n",
       "      <td>Marketing</td>\n",
       "      <td>450</td>\n",
       "      <td>44</td>\n",
       "      <td>56</td>\n",
       "      <td>100</td>\n",
       "    </tr>\n",
       "    <tr>\n",
       "      <th>5</th>\n",
       "      <td>Customer Service</td>\n",
       "      <td>540</td>\n",
       "      <td>40</td>\n",
       "      <td>60</td>\n",
       "      <td>100</td>\n",
       "    </tr>\n",
       "  </tbody>\n",
       "</table>\n",
       "</div>"
      ],
      "text/plain": [
       "         Department  Total No of Employees  Percentage of Females  \\\n",
       "0                IT                    840                     45   \n",
       "1          Accounts                    220                     35   \n",
       "2        Production                    900                     23   \n",
       "3                HR                    360                     65   \n",
       "4         Marketing                    450                     44   \n",
       "5  Customer Service                    540                     40   \n",
       "\n",
       "   Percentage of Males  Total percentage of employee  \n",
       "0                   55                           100  \n",
       "1                   65                           100  \n",
       "2                   77                           100  \n",
       "3                   35                           100  \n",
       "4                   56                           100  \n",
       "5                   60                           100  "
      ]
     },
     "execution_count": 26,
     "metadata": {},
     "output_type": "execute_result"
    }
   ],
   "source": [
    "dataCSV"
   ]
  },
  {
   "cell_type": "code",
   "execution_count": null,
   "metadata": {},
   "outputs": [],
   "source": []
  }
 ],
 "metadata": {
  "kernelspec": {
   "display_name": "Python 3",
   "language": "python",
   "name": "python3"
  },
  "language_info": {
   "codemirror_mode": {
    "name": "ipython",
    "version": 3
   },
   "file_extension": ".py",
   "mimetype": "text/x-python",
   "name": "python",
   "nbconvert_exporter": "python",
   "pygments_lexer": "ipython3",
   "version": "3.7.6"
  }
 },
 "nbformat": 4,
 "nbformat_minor": 4
}
